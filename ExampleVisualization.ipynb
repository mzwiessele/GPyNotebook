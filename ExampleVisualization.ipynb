{
 "cells": [
  {
   "cell_type": "code",
   "execution_count": 1,
   "metadata": {
    "collapsed": false
   },
   "outputs": [
    {
     "name": "stderr",
     "output_type": "stream",
     "text": [
      " :0: FutureWarning:IPython widgets are experimental and may change in the future.\n"
     ]
    }
   ],
   "source": [
    "import GPy, pandas as pd, numpy as np, scipy as sp, itertools\n",
    "import GPyNotebook\n",
    "\n",
    "import seaborn as sns\n",
    "\n",
    "%matplotlib inline\n",
    "from matplotlib import pyplot as plt"
   ]
  },
  {
   "cell_type": "code",
   "execution_count": 2,
   "metadata": {
    "collapsed": false
   },
   "outputs": [],
   "source": [
    "# create sum gaussian distributions based on several variables:\n",
    "#mixtures = mixtures == mixtures.max(1)[:, None]\n",
    "#mixtures = np.c_[np.random.dirichlet([.5, .5], size=300), np.random.dirichlet([.3, .7], size=300)]\n",
    "means = list(itertools.product([-4, 4, 0], repeat=2))\n",
    "mixtures = np.random.dirichlet(np.random.uniform(0, .2, len(means)), size=300)"
   ]
  },
  {
   "cell_type": "code",
   "execution_count": 3,
   "metadata": {
    "collapsed": false
   },
   "outputs": [],
   "source": [
    "def draw_sample(mu, size):\n",
    "    cov = np.random.normal(size=len(mu))[:,None]\n",
    "    cov = GPy.util.linalg.tdot(cov) + 1e-6*np.eye(len(mu))\n",
    "    return np.random.multivariate_normal(mu, cov, size=(300))\n",
    "    \n",
    "realizations = (np.array([draw_sample(mu, mixtures.shape[0]) for mu in means]).T * mixtures).sum(-1).T"
   ]
  },
  {
   "cell_type": "code",
   "execution_count": 4,
   "metadata": {
    "collapsed": false
   },
   "outputs": [],
   "source": [
    "labels = np.argmax(mixtures, 1)\n",
    "ulabels = np.unique(labels)"
   ]
  },
  {
   "cell_type": "code",
   "execution_count": 5,
   "metadata": {
    "collapsed": false
   },
   "outputs": [
    {
     "data": {
      "image/png": "[encoded data removed]",
      "text/plain": [
       "<matplotlib.figure.Figure at 0x19d4a10>"
      ]
     },
     "metadata": {},
     "output_type": "display_data"
    }
   ],
   "source": [
    "colors = iter(sns.color_palette('hls', mixtures.shape[1]))\n",
    "for l in ulabels:\n",
    "    c=colors.next()\n",
    "    plt.scatter(*realizations[labels==l].T, color=c)"
   ]
  },
  {
   "cell_type": "code",
   "execution_count": 6,
   "metadata": {
    "collapsed": false
   },
   "outputs": [],
   "source": [
    "k = GPy.kern.Exponential(2, 1) + GPy.kern.White(2, variance=1e-6)\n",
    "K = k.K(realizations)"
   ]
  },
  {
   "cell_type": "code",
   "execution_count": 7,
   "metadata": {
    "collapsed": false
   },
   "outputs": [],
   "source": [
    "Y = np.random.multivariate_normal(np.zeros(realizations.shape[0]), K, size=23).T"
   ]
  },
  {
   "cell_type": "code",
   "execution_count": 8,
   "metadata": {
    "collapsed": false
   },
   "outputs": [],
   "source": [
    "bins = [.1, .7, .9]\n",
    "labels = np.empty(mixtures.shape)\n",
    "for i in range(mixtures.shape[0]):\n",
    "    labels[i] = np.digitize(mixtures[i], bins)"
   ]
  },
  {
   "cell_type": "code",
   "execution_count": 9,
   "metadata": {
    "collapsed": false
   },
   "outputs": [],
   "source": [
    "labels = pd.DataFrame(labels, columns = ['var{}'.format(_) for _ in range(labels.shape[1])])"
   ]
  },
  {
   "cell_type": "code",
   "execution_count": 10,
   "metadata": {
    "collapsed": false
   },
   "outputs": [],
   "source": [
    "from collections import OrderedDict\n",
    "labeldict = OrderedDict()\n",
    "for name, l in labels.iteritems():\n",
    "    labeldict[name] = l.values"
   ]
  },
  {
   "cell_type": "code",
   "execution_count": null,
   "metadata": {
    "collapsed": false
   },
   "outputs": [],
   "source": [
    "# Learn the model\n",
    "Q = 10\n",
    "m = GPy.models.BayesianGPLVM(Y, Q, num_inducing=30, kernel=GPy.kern.RBF(Q, ARD=True), init='PCA')"
   ]
  },
  {
   "cell_type": "code",
   "execution_count": null,
   "metadata": {
    "collapsed": false
   },
   "outputs": [
    {
     "name": "stdout",
     "output_type": "stream",
     "text": [
      "WARNING: reconstraining parameters bayesian_gplvm.Gaussian_noise\n",
      "WARNING: reconstraining parameters bayesian_gplvm.Gaussian_noise"
     ]
    }
   ],
   "source": [
    "m.likelihood.fix(.01)\n",
    "m.optimize(messages=1)\n",
    "m.likelihood.constrain_positive()\n",
    "m.optimize(messages=1)"
   ]
  },
  {
   "cell_type": "markdown",
   "metadata": {},
   "source": [
    "Now lets create the visualization. We need to give the latent space (N x Q) and a dictionary of labels (N x #num_labels) to the LatentView instance. There is more options, see the help. Here we generated labels, which are discretized versions of the mixture parameters, which decided how much to take from the different distributions, with different means."
   ]
  },
  {
   "cell_type": "code",
   "execution_count": null,
   "metadata": {
    "collapsed": true
   },
   "outputs": [],
   "source": [
    "GPyNotebook.latent.LatentView(m.X.mean, labeldict)"
   ]
  },
  {
   "cell_type": "code",
   "execution_count": null,
   "metadata": {
    "collapsed": false
   },
   "outputs": [],
   "source": [
    "m.kern.plot_ARD()"
   ]
  },
  {
   "cell_type": "code",
   "execution_count": null,
   "metadata": {
    "collapsed": true
   },
   "outputs": [],
   "source": [
    "p = GPy.util.pca.PCA(Y)\n",
    "X_pca = p.project(Y, 10)\n",
    "GPyNotebook.latent.LatentView(X_pca, labeldict)"
   ]
  },
  {
   "cell_type": "code",
   "execution_count": null,
   "metadata": {
    "collapsed": false
   },
   "outputs": [],
   "source": [
    "p.plot_fracs(10)"
   ]
  },
  {
   "cell_type": "code",
   "execution_count": null,
   "metadata": {
    "collapsed": true
   },
   "outputs": [],
   "source": []
  }
 ],
 "metadata": {
  "kernelspec": {
   "display_name": "Python 2",
   "language": "python",
   "name": "python2"
  },
  "language_info": {
   "codemirror_mode": {
    "name": "ipython",
    "version": 2
   },
   "file_extension": ".py",
   "mimetype": "text/x-python",
   "name": "python",
   "nbconvert_exporter": "python",
   "pygments_lexer": "ipython2",
   "version": "2.7.6"
  }
 },
 "nbformat": 4,
 "nbformat_minor": 0
}
